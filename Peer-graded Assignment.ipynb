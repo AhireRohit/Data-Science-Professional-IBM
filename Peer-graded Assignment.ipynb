{
 "cells": [
  {
   "cell_type": "markdown",
   "metadata": {
    "collapsed": true
   },
   "source": [
    "<h1> My Jupyter Notebook on IBM Watson Studio </h1>"
   ]
  },
  {
   "cell_type": "markdown",
   "metadata": {},
   "source": [
    "<b>Rohit Ahire <br>\n",
    "I wish to be a Data Scientist</b>"
   ]
  },
  {
   "cell_type": "markdown",
   "metadata": {},
   "source": [
    "<i>I am interested in data science because it combines math, computer science, and statistics and helps us understand how the world works. </i>"
   ]
  },
  {
   "cell_type": "markdown",
   "metadata": {},
   "source": [
    "<h3> The below code is written n python. It's a simple addition program. </h3>"
   ]
  },
  {
   "cell_type": "code",
   "execution_count": 1,
   "metadata": {},
   "outputs": [
    {
     "name": "stdout",
     "output_type": "stream",
     "text": [
      "3\n"
     ]
    }
   ],
   "source": [
    "a = 1\n",
    "b = 2\n",
    "print(a+b)"
   ]
  },
  {
   "cell_type": "markdown",
   "metadata": {},
   "source": [
    "<hr />\n",
    "\n",
    "Table:-\n",
    "\n",
    "| Sr no | Name   | Language |\n",
    "| ----  | ----   | -------- |\n",
    "| 1     | Rohit  | Python   |\n",
    "| 2     | Ritesh | C++      |\n",
    "| 3     | Om     | Java     |\n",
    "\n",
    "<hr />\n",
    "\n",
    "Hyperlink:-\n",
    "<a href=\"https://www.youtube.com/\" target=\"_blank\" rel=\"noopener noreferrer\">YouTube</a>\n",
    "\n",
    "<hr />\n",
    "\n",
    "Bullets:- \n",
    "- Cat\n",
    "- Dog\n",
    "- Cow\n",
    "\n",
    "<hr />"
   ]
  }
 ],
 "metadata": {
  "kernelspec": {
   "display_name": "Python 3.9",
   "language": "python",
   "name": "python3"
  },
  "language_info": {
   "codemirror_mode": {
    "name": "ipython",
    "version": 3
   },
   "file_extension": ".py",
   "mimetype": "text/x-python",
   "name": "python",
   "nbconvert_exporter": "python",
   "pygments_lexer": "ipython3",
   "version": "3.9.13"
  }
 },
 "nbformat": 4,
 "nbformat_minor": 1
}
